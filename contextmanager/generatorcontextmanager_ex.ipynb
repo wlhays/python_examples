{
 "cells": [
  {
   "cell_type": "markdown",
   "metadata": {
    "deletable": true,
    "editable": true
   },
   "source": [
    "## A GeneratorContextManager Example"
   ]
  },
  {
   "cell_type": "markdown",
   "metadata": {
    "deletable": true,
    "editable": true
   },
   "source": [
    "A short code example taken from an article on the O'Reilly website.\n",
    "\n",
    "https://www.oreilly.com/learning/20-python-libraries-you-arent-using-but-should?imm_mid=0e7ab9&cmp=em-prog-na-na-newsltr_20160910\n",
    "\n",
    "20 Python libraries you aren't using (but should)\n",
    "Discover lesser-known Python libraries that are easy to install and use, cross-platform, and applicable to more than one domain.\n",
    "\n",
    "By Caleb Hattingh\n",
    "September 1, 2016\n",
    "\n",
    "Hattingh's discussion of the code example is included in his article, but the following discussion tried to delve a bit deeper for those still learning.\n"
   ]
  },
  {
   "cell_type": "markdown",
   "metadata": {
    "deletable": true,
    "editable": true
   },
   "source": [
    "First, a contextmanager is defined using the @contextmanager decorator."
   ]
  },
  {
   "cell_type": "code",
   "execution_count": 1,
   "metadata": {
    "collapsed": true,
    "deletable": true,
    "editable": true
   },
   "outputs": [],
   "source": [
    "from time import perf_counter\n",
    "from array import array\n",
    "from contextlib import contextmanager\n",
    "\n",
    "@contextmanager  \n",
    "def timing(label: str):\n",
    "    t0 = perf_counter()  \n",
    "    yield lambda: (label, t1 - t0)  \n",
    "    t1 = perf_counter() "
   ]
  },
  {
   "cell_type": "markdown",
   "metadata": {
    "deletable": true,
    "editable": true
   },
   "source": [
    "The *timing* context manager features two calls to *time.perf_counter()* to calculate a time interval of short duration in fractional seconds.  \n",
    "\n",
    "Under the covers, a ContextManager has an *enter()* method to build up the context and an *exit()* method to tear it down.  This is commonly understood when opening a file and having the ContextManager opens the file and closes it  automatically at the end.  With the @contextmanager the code up to the *yield* perpares the context and the code after it tears it down.\n",
    "\n",
    "The *yield* indicates that *timing* is a a generator.  It yields a lambda function that returns a tuple with the assigned label for a given *timing* instance and the corresponding calculation of the time interval.  Note that the sequential nature of the code that places the calculation *t1 - t0* above the declaration of *t1* forces us to see that the yielded lambda is deferred and that we are dealing with a closure.  The lambda retains access to t0 and t1 after it is returned to the caller and when the lambda is called, as shown later on, both perf_counter values are available."
   ]
  },
  {
   "cell_type": "markdown",
   "metadata": {},
   "source": [
    "The rest of Hattingh's code uses the *timing* context manager to time two array operations sequentially and embeds them in another instance of *timer* to calculate a total."
   ]
  },
  {
   "cell_type": "code",
   "execution_count": 2,
   "metadata": {
    "collapsed": false
   },
   "outputs": [
    {
     "name": "stdout",
     "output_type": "stream",
     "text": [
      "Total [Array tests]: 0.050259 s\n",
      "    Timing [Array creation innermul]: 0.049044 s\n",
      "    Timing [Array creation outermul]: 0.001179 s\n"
     ]
    }
   ],
   "source": [
    "with timing('Array tests') as total:  \n",
    "    with timing('Array creation innermul') as inner:\n",
    "        x = array('d', [0] * 1000000)  \n",
    "\n",
    "    with timing('Array creation outermul') as outer:\n",
    "        x = array('d', [0]) * 1000000 \n",
    "\n",
    "\n",
    "print('Total [%s]: %.6f s' % total())\n",
    "print('    Timing [%s]: %.6f s' % inner())\n",
    "print('    Timing [%s]: %.6f s' % outer())\n"
   ]
  },
  {
   "cell_type": "markdown",
   "metadata": {},
   "source": [
    "Each of the instances of *timing* is associated with a variable name (\"total\", \"inner\", and \"outer\" following the *as* in each with statement) that is a reference to the yielded lambda closure; this is the means of access to the perf_counter calculation and the label as well.  \n",
    "\n",
    "Each of these functions is static, returning the same values every time it is called since the perf_counter calls were done once per contextmanager.\n"
   ]
  },
  {
   "cell_type": "code",
   "execution_count": 3,
   "metadata": {
    "collapsed": false
   },
   "outputs": [
    {
     "data": {
      "text/plain": [
       "('Array creation outermul', 0.0011788900010287762)"
      ]
     },
     "execution_count": 3,
     "metadata": {},
     "output_type": "execute_result"
    }
   ],
   "source": [
    "outer()"
   ]
  },
  {
   "cell_type": "markdown",
   "metadata": {},
   "source": [
    "It is possible to inspect these as to how the closures are managed internally. The label, t0 and t1 are stored, not the result of the subtraction."
   ]
  },
  {
   "cell_type": "code",
   "execution_count": 4,
   "metadata": {
    "collapsed": false
   },
   "outputs": [
    {
     "data": {
      "text/plain": [
       "('Array creation outermul', 24640.371475214, 24640.372654104)"
      ]
     },
     "execution_count": 4,
     "metadata": {},
     "output_type": "execute_result"
    }
   ],
   "source": [
    "(outer.__closure__[0].cell_contents, outer.__closure__[1].cell_contents, outer.__closure__[2].cell_contents)"
   ]
  }
 ],
 "metadata": {
  "kernelspec": {
   "display_name": "Python 3",
   "language": "python",
   "name": "python3"
  },
  "language_info": {
   "codemirror_mode": {
    "name": "ipython",
    "version": 3
   },
   "file_extension": ".py",
   "mimetype": "text/x-python",
   "name": "python",
   "nbconvert_exporter": "python",
   "pygments_lexer": "ipython3",
   "version": "3.6.0"
  }
 },
 "nbformat": 4,
 "nbformat_minor": 2
}
