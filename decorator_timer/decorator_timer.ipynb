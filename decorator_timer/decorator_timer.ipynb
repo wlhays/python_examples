{
 "cells": [
  {
   "cell_type": "markdown",
   "metadata": {},
   "source": [
    "## A Decorator for Timing a Function\n",
    "\n",
    "In the Python example *GeneratorContextManager*, the purpose of the context manager was to time the code wrapped by the manager.  In the *Python Cookbook, 3rd ed.*, timing is used as an example for both ContextManager and Decorator recipes.  Following on this, the following example tries to duplicate the earlier functionality but is a means to discover that the earlier GeneratorContextManager does a better job for the specific features there.\n",
    "\n",
    "The primary structural difference in the timed code is that the contextmanager works on a listing of code inside the *with* block whereas the decorator requires a defined function to be timed.  In the case of decorating a preexisting function, say from an imported library module, then the \"@\" syntax is replaced by calling the decorator directly.\n",
    "\n",
    "The following defines a decorator using time.perf_counter twice to calcuate the duration of the wrapped function call.  The wrapper function is additionally passed a keyword argument 'label', used subsequently to identify the results. In order to not pass the label argument to the wrapped function, it is saved and then removed just before the call.  It is not particularly elegant, but the alternatives are discussed below. "
   ]
  },
  {
   "cell_type": "code",
   "execution_count": 1,
   "metadata": {
    "collapsed": true
   },
   "outputs": [],
   "source": [
    "from functools import wraps\n",
    "from time import perf_counter\n",
    "from array import array\n",
    "\n",
    "def dec_time(func):\n",
    "    '''\n",
    "    Decorator to time wrapped function\n",
    "    '''  \n",
    "    @wraps(func)\n",
    "    def wrapper(*args, **kwargs):\n",
    "        t0 = perf_counter()\n",
    "        label = kwargs['label']\n",
    "        del kwargs['label']\n",
    "        result = func(*args, **kwargs)\n",
    "        t1 = perf_counter()\n",
    "        return (label, (t1 - t0), result)\n",
    "    return wrapper  \n"
   ]
  },
  {
   "cell_type": "markdown",
   "metadata": {},
   "source": [
    "Below shows how the decorator is used to parallel the contextmanager example by timing two array creation calls (slightly different in the syntax and very different in the timing result) inside the function *total_time* which itself is timed.  In order to accomplish this with the decorator, an additional function which takes the decorator is first created and then used to wrap each of the functional calls.  This enables the ability to wrap a sequence of calls rather than only treating individual calls. \n",
    "\n",
    "Returning the label, timing and function result allows for more usability\n",
    "The timing results are very comparable to those from the other example."
   ]
  },
  {
   "cell_type": "code",
   "execution_count": 2,
   "metadata": {
    "collapsed": false
   },
   "outputs": [
    {
     "name": "stdout",
     "output_type": "stream",
     "text": [
      "inner:  - 0.05163\n",
      "outer:  - 0.00130\n",
      "total:  - 0.05316\n"
     ]
    }
   ],
   "source": [
    "@dec_time\n",
    "def time_func(func, label=''): \n",
    "    func() \n",
    "     \n",
    "def total_time():    \n",
    "    label, t, _ = time_func(lambda: array('d', [0] * 1000000), label='inner: ') \n",
    "    print(\"{0} - {1:1.5f}\".format(label, t))     \n",
    "    \n",
    "    label, t, _ = time_func(lambda: array('d', [0]) * 1000000, label='outer: ') \n",
    "    print(\"{0} - {1:1.5f}\".format(label, t))     \n",
    "\n",
    "label, t, _ = time_func(total_time, label='total: ')\n",
    "print(\"{0} - {1:1.5f}\".format(label, t))\n"
   ]
  },
  {
   "cell_type": "markdown",
   "metadata": {},
   "source": [
    "Using the decorator itself as the receiver of the label argument does not allow for the per-call assignment.\n",
    "\n",
    "The addition of the *time_func* function is unfortunate and would suggest having a single function, not a decorator, that handles the timing and label more simply.  Or the GeneratorContextManager version is also much more succinct.\n",
    "\n",
    "Below shows the case of using the decorator on an imported library function. The decorator is called directly as a function.  The wrapping function is called with both the expected arguments of the wrapped *randint* function and the keyword label argument.   "
   ]
  },
  {
   "cell_type": "code",
   "execution_count": 3,
   "metadata": {
    "collapsed": false
   },
   "outputs": [
    {
     "name": "stdout",
     "output_type": "stream",
     "text": [
      "timed randint:  - 0.00002 - result: 40\n"
     ]
    }
   ],
   "source": [
    "from random import randint\n",
    "timed_rand_int = dec_time(randint)\n",
    "label, t, r = timed_rand_int(0, 100, label='timed randint: ')\n",
    "print(\"{0} - {1:1.5f} - result: {2}\".format(label, t, r))\n"
   ]
  }
 ],
 "metadata": {
  "kernelspec": {
   "display_name": "Python 3",
   "language": "python",
   "name": "python3"
  },
  "language_info": {
   "codemirror_mode": {
    "name": "ipython",
    "version": 3
   },
   "file_extension": ".py",
   "mimetype": "text/x-python",
   "name": "python",
   "nbconvert_exporter": "python",
   "pygments_lexer": "ipython3",
   "version": "3.6.0"
  }
 },
 "nbformat": 4,
 "nbformat_minor": 2
}
