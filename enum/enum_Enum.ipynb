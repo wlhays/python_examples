{
 "cells": [
  {
   "cell_type": "markdown",
   "metadata": {
    "deletable": true,
    "editable": true
   },
   "source": [
    "## enum.Enum\n",
    "\n",
    "Enums were introduced into the standard library in Python 3.4 and are described in the official documentation as \"a set of symbolic names (members) bound to unique, constant values.\"  This could be extended to say that the members generally cover the concept at hand, exhausting that space with respect to the current application.  For instance, 'N E S W' would cover the cardinal directions for two-dimensional mapping.  \n",
    "\n",
    "Another way of expressing this is to treat the members as categories or types from which objects in a system take on a distinct value.  In a relation database system, enums can simplify the data model while enforcing data integrity; no extraneous tables to manage such simple data values.  Of course, if one needs to change the enum members after the fact, then difficulties arise.  So it is best to be very sure that the enum is comprehensive and enduring. It is more flexible in Python.\n",
    "\n",
    "The enum.Enum module has a variety of ways to assign a value to each name.  But it is sometimes the case that the application is never concerned with the value, just with the distinctness of members.  Uniqueness of the member is enforced via uniquess of the name.  Uniqueness of the values is optional but can be imposed with the @unique decorator.   \n"
   ]
  },
  {
   "cell_type": "code",
   "execution_count": 1,
   "metadata": {
    "collapsed": false,
    "deletable": true,
    "editable": true
   },
   "outputs": [
    {
     "name": "stdout",
     "output_type": "stream",
     "text": [
      "Size of the enum: 4\n",
      "Direction is: \n"
     ]
    }
   ],
   "source": [
    "import enum\n",
    "\n",
    "@enum.unique\n",
    "class CardinalDirection(enum.Enum):\n",
    "    NORTH = 1\n",
    "    EAST  = 2\n",
    "    SOUTH = 3\n",
    "    WEST  = 4\n",
    "\n",
    "print('Size of the enum: {}'.format(len(CardinalDirection)))\n",
    "print('Direction is: '.format(CardinalDirection.NORTH))\n"
   ]
  },
  {
   "cell_type": "markdown",
   "metadata": {
    "deletable": true,
    "editable": true
   },
   "source": [
    "The same Enum can be created via the functional API:"
   ]
  },
  {
   "cell_type": "code",
   "execution_count": 2,
   "metadata": {
    "collapsed": false,
    "deletable": true,
    "editable": true
   },
   "outputs": [
    {
     "name": "stdout",
     "output_type": "stream",
     "text": [
      "CardinalDirection.NORTH\n"
     ]
    }
   ],
   "source": [
    "cdirs = enum.Enum('CardinalDirection', 'NORTH EAST SOUTH WEST')\n",
    "print(list(cdirs)[0])"
   ]
  },
  {
   "cell_type": "markdown",
   "metadata": {
    "deletable": true,
    "editable": true
   },
   "source": [
    "One subtlety is that each of the values must be equivalent to *True*, which is why the default values use an integer sequence starting with 1 rather than 0. In the case of a binary Enum, such as for RIGHT/LEFT, there is no parallel with True/False in the sense of 'not RIGHT == LEFT'.  In practice this makes little or no difference, though in pattern matching across possibilities, one might leave room for a possible invalid value or 'None'. \n",
    "\n",
    "One easy way to add some display flexibility is to override the dunder str display method.\n"
   ]
  },
  {
   "cell_type": "code",
   "execution_count": 3,
   "metadata": {
    "collapsed": false,
    "deletable": true,
    "editable": true
   },
   "outputs": [
    {
     "name": "stdout",
     "output_type": "stream",
     "text": [
      "<Suit.SPADES: 1> name: 'SPADES' symbol: ♠\n"
     ]
    }
   ],
   "source": [
    "@enum.unique\n",
    "class Suit(enum.Enum):\n",
    "    SPADES   = 1\n",
    "    HEARTS   = 2\n",
    "    DIAMONDS = 3\n",
    "    CLUBS    = 4\n",
    "\n",
    "    def __str__(self):\n",
    "        return '♠♥♦♣'[self.value - 1]\n",
    "    \n",
    "print('{0!r} name: {1!r} symbol: {0!s}'.format(Suit.SPADES, Suit.SPADES.name))    \n",
    "    "
   ]
  },
  {
   "cell_type": "markdown",
   "metadata": {
    "deletable": true,
    "editable": true
   },
   "source": [
    "An elaborate example from the Python documentation is for the (eight) Planets where the value is a tuple with measurements for mass and radius.  An __init__ method is required to coordinate the fields and a @property method is defined to calculate the specific gravity.  \n",
    "\n",
    "https://docs.python.org/3/library/enum.html\n",
    "\n",
    "As a take-off on this, there is a StackOverflow answer by \"Zero Piraeus\" that uses #collections.namedtuple# as a mixin with Enum which creates slightly cleaner code with no __init__ method, despite the external declaration of the namedtuple.\n",
    "\n",
    "https://stackoverflow.com/questions/26691784/can-named-arguments-be-used-with-python-enums\n"
   ]
  },
  {
   "cell_type": "code",
   "execution_count": 4,
   "metadata": {
    "collapsed": true,
    "deletable": true,
    "editable": true
   },
   "outputs": [],
   "source": [
    "from collections import namedtuple\n",
    "from enum import Enum\n",
    "\n",
    "Body = namedtuple(\"Body\", [\"mass\", \"radius\"])\n",
    "\n",
    "class Planet(Body, Enum):\n",
    "\n",
    "    MERCURY = Body(mass=3.303e+23, radius=2.4397e6)\n",
    "    VENUS   = Body(mass=4.869e+24, radius=6.0518e6)\n",
    "    EARTH   = Body(mass=5.976e+24, radius=3.3972e6)\n",
    "    # ... etc.\n",
    "\n"
   ]
  },
  {
   "cell_type": "markdown",
   "metadata": {
    "deletable": true,
    "editable": true
   },
   "source": [
    "In both cases, the function of the class as an Enum moves closer to being a Set of fleshed out objects while retaining the limited number of elements.  Viewing these from the relational perspective, it would be seen as a lookup table."
   ]
  },
  {
   "cell_type": "markdown",
   "metadata": {
    "deletable": true,
    "editable": true
   },
   "source": [
    "A different take on expanding the enum is to use the Cartesian product of two Enums to create a new Enum for a 2-dimensional space.  Unlike the Planets example, the following *playing card* example avoids multiple fields in favor of simply structured strings for the values.  Using the unicode symbols or numbers as the first character for the *names* isn't valid (though it is currently possible to create the enum this way and print out as a list).  But using the symbols for display #values# can do for some use cases.  Though not demonstrated in the official documentation, passing a list of (name, value) tuples works in the functional API and the list comprehension here makes it succinct.    "
   ]
  },
  {
   "cell_type": "code",
   "execution_count": 5,
   "metadata": {
    "collapsed": false,
    "deletable": true,
    "editable": true
   },
   "outputs": [
    {
     "name": "stdout",
     "output_type": "stream",
     "text": [
      "First 5 cards:  [<Cards.AS: 'A♠'>, <Cards.AH: 'A♥'>, <Cards.AD: 'A♦'>, <Cards.AC: 'A♣'>, <Cards.KS: 'K♠'>]\n",
      "Royal Flush:  ['A♠', 'K♠', 'Q♠', 'J♠', '10♠']\n"
     ]
    }
   ],
   "source": [
    "@enum.unique\n",
    "class Suit(enum.Enum):\n",
    "    SPADES   = '♠'\n",
    "    HEARTS   = '♥'\n",
    "    DIAMONDS = '♦'\n",
    "    CLUBS    = '♣'\n",
    "\n",
    "class Rank(enum.Enum):\n",
    "    A = 'A'\n",
    "    K = 'K'\n",
    "    Q = 'Q'\n",
    "    J = 'J'\n",
    "    T = '10'\n",
    "    _9 = '9'\n",
    "    # ... etc.\n",
    "\n",
    "cards = enum.Enum('Cards', [ (r.name + s.name[0], r.value + s.value) for r in Rank for s in Suit ])\n",
    "cards.__str__ = lambda self: self.value # normally the name is the display\n",
    "\n",
    "print('First 5 cards: ', list(cards)[0:5])\n",
    "print('Royal Flush: ', [c.value for c in cards if c.name[1] == 'S'])\n"
   ]
  }
 ],
 "metadata": {
  "kernelspec": {
   "display_name": "Python 3",
   "language": "python",
   "name": "python3"
  },
  "language_info": {
   "codemirror_mode": {
    "name": "ipython",
    "version": 3
   },
   "file_extension": ".py",
   "mimetype": "text/x-python",
   "name": "python",
   "nbconvert_exporter": "python",
   "pygments_lexer": "ipython3",
   "version": "3.6.0"
  }
 },
 "nbformat": 4,
 "nbformat_minor": 2
}
