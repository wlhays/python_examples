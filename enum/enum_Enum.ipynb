{
 "cells": [
  {
   "cell_type": "markdown",
   "metadata": {
    "deletable": true,
    "editable": true
   },
   "source": [
    "Enums were introduced into the standard library in Python 3.4 and are described in the official documentation as \"a set of symbolic names (members) bound to unique, constant values.\"  This could be extended to say that the members generally cover the concept at hand, exhausting that space with respect to the current application.  For instance, 'N E S W' would cover the cardinal directions for two-dimensional mapping.  \n",
    "\n",
    "Another way of expressing this is to treat the members as categories or types from which objects in a system take on a distinct value.  In a relation database system, enums can simplify the data model while enforcing data integrity; no extraneous tables to manage such simple data values.  Of course, if one needs to change the enum members after the fact, then difficulties arise.  So it is best to be very sure that the enum is comprehensive and enduring. \n",
    "\n",
    "The enum.Enum module has a variety of ways to assign a value to each name.  Uniqueness of the member is enforced via uniquess of the name.  Uniqueness of the values is optional and can be imposed with the @unique decorator.   \n"
   ]
  },
  {
   "cell_type": "code",
   "execution_count": 1,
   "metadata": {
    "collapsed": false,
    "deletable": true,
    "editable": true
   },
   "outputs": [
    {
     "name": "stdout",
     "output_type": "stream",
     "text": [
      "Size of the enum: 4\n",
      "CardinalDirection.NORTH\n"
     ]
    }
   ],
   "source": [
    "import enum\n",
    "\n",
    "@enum.unique\n",
    "class CardinalDirection(enum.Enum):\n",
    "    NORTH = 1\n",
    "    EAST  = 2\n",
    "    SOUTH = 3\n",
    "    WEST  = 4\n",
    "\n",
    "print('Size of the enum: {}'.format(len(CardinalDirection)))\n",
    "\n",
    "mydir = CardinalDirection.NORTH\n",
    "print(mydir)\n"
   ]
  },
  {
   "cell_type": "markdown",
   "metadata": {
    "deletable": true,
    "editable": true
   },
   "source": [
    "It is sometimes the case that the application is never concerned with the value, just with the distinctness of members.  One subtlety is that each of the values must be equivalent to #True#, which is why the default values use an integer sequence starting with 1 rather than 0. In the case of a binary Enum, such as for RIGHT/LEFT, there is no parallel with True/False in the sense of 'not RIGHT == LEFT'.  In practice this makes little or no difference, though in pattern matching across possibilities, one might leave room for a possible invalid value or 'None'. \n",
    "\n",
    "One easy way to add some display flexibility is to override the dunder str display method.\n"
   ]
  },
  {
   "cell_type": "code",
   "execution_count": 2,
   "metadata": {
    "collapsed": false,
    "deletable": true,
    "editable": true
   },
   "outputs": [
    {
     "name": "stdout",
     "output_type": "stream",
     "text": [
      "<Suit.SPADES: 1> name: 'SPADES' symbol: ♠\n"
     ]
    }
   ],
   "source": [
    "@enum.unique\n",
    "class Suit(enum.Enum):\n",
    "    SPADES   = 1\n",
    "    HEARTS   = 2\n",
    "    CLUBS    = 3\n",
    "    DIAMONDS = 4\n",
    "\n",
    "    def __str__(self):\n",
    "        return '♠♥♦♣'[self.value - 1]\n",
    "    \n",
    "print('{0!r} name: {1!r} symbol: {0!s}'.format(Suit.SPADES, Suit.SPADES.name))    \n",
    "    "
   ]
  },
  {
   "cell_type": "markdown",
   "metadata": {
    "deletable": true,
    "editable": true
   },
   "source": [
    "An elaborate example from the Python documentation is for the (eight) Planets where the value is a tuple with measurements for mass and radius.  An __init__ method is required to coordinate the fields and a @property method is defined to calculate the specific gravity.  \n",
    "\n",
    "https://docs.python.org/3/library/enum.html\n",
    "\n",
    "As a take off on this, there is a StackOverflow answer by \"Zero Piraeus\" that uses #collections.namedtuple# as a mixin with Enum which creates slightly cleaner code with no __init__ method, despite the external declaration of the namedtuple.\n",
    "\n",
    "https://stackoverflow.com/questions/26691784/can-named-arguments-be-used-with-python-enums\n"
   ]
  },
  {
   "cell_type": "code",
   "execution_count": 3,
   "metadata": {
    "collapsed": true,
    "deletable": true,
    "editable": true
   },
   "outputs": [],
   "source": [
    "from collections import namedtuple\n",
    "from enum import Enum\n",
    "\n",
    "Body = namedtuple(\"Body\", [\"mass\", \"radius\"])\n",
    "\n",
    "class Planet(Body, Enum):\n",
    "\n",
    "    MERCURY = Body(mass=3.303e+23, radius=2.4397e6)\n",
    "    VENUS   = Body(mass=4.869e+24, radius=6.0518e6)\n",
    "    EARTH   = Body(mass=5.976e+24, radius=3.3972e6)\n",
    "    # ... etc.\n",
    "\n"
   ]
  },
  {
   "cell_type": "markdown",
   "metadata": {
    "deletable": true,
    "editable": true
   },
   "source": [
    "In both cases, the function of the class as an Enum moves closer to being a Set of fleshed out objects while retaining the limited number of elements.  Viewing these from the relation database end, it would be seen as a lookup table.  And so the temptation to break away from the idea of a use case for an exclusive set of categories.  "
   ]
  }
 ],
 "metadata": {
  "kernelspec": {
   "display_name": "Python 3",
   "language": "python",
   "name": "python3"
  },
  "language_info": {
   "codemirror_mode": {
    "name": "ipython",
    "version": 3
   },
   "file_extension": ".py",
   "mimetype": "text/x-python",
   "name": "python",
   "nbconvert_exporter": "python",
   "pygments_lexer": "ipython3",
   "version": "3.6.0"
  }
 },
 "nbformat": 4,
 "nbformat_minor": 2
}
