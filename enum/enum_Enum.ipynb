{
 "cells": [
  {
   "cell_type": "markdown",
   "metadata": {
    "deletable": true,
    "editable": true
   },
   "source": [
    "## enum.Enum\n",
    "\n",
    "Enums were introduced into the standard library in Python 3.4 and are described in the official documentation as \"a set of symbolic names (members) bound to unique, constant values.\"  This could be extended to say that the members generally cover the concept at hand, exhausting that space with respect to the current application.  For instance, 'N E S W' would cover the cardinal directions for two-dimensional mapping.  \n",
    "\n",
    "Another way of expressing this is to treat the members as categories or types from which objects in a system take on a distinct value.  In a relation database system, enums can simplify the data model while enforcing data integrity; no extraneous tables to manage such simple data values.  Of course, if one needs to change the enum members after the fact, then difficulties arise.  So it is best to be very sure that the enum is comprehensive and enduring. It is more flexible in Python.\n",
    "\n",
    "The enum.Enum module has a variety of ways to assign a value to each name.  But it is sometimes the case that the application is never concerned with the value, just with the distinctness of members.  Uniqueness of the member is enforced via uniquess of the name.  Uniqueness of the values is optional but can be imposed with the @unique decorator.   \n"
   ]
  },
  {
   "cell_type": "code",
   "execution_count": 1,
   "metadata": {
    "collapsed": false,
    "deletable": true,
    "editable": true
   },
   "outputs": [
    {
     "name": "stdout",
     "output_type": "stream",
     "text": [
      "Size of the enum: 4\n",
      "Direction is: CardinalDirection.NORTH\n"
     ]
    }
   ],
   "source": [
    "import enum\n",
    "\n",
    "@enum.unique\n",
    "class CardinalDirection(enum.Enum):\n",
    "    NORTH = 1\n",
    "    EAST  = 2\n",
    "    SOUTH = 3\n",
    "    WEST  = 4\n",
    "\n",
    "print('Size of the enum: {}'.format(len(CardinalDirection)))\n",
    "print('Direction is: {}'.format(CardinalDirection.NORTH))\n"
   ]
  },
  {
   "cell_type": "markdown",
   "metadata": {
    "deletable": true,
    "editable": true
   },
   "source": [
    "The same Enum can be created via the functional API:"
   ]
  },
  {
   "cell_type": "code",
   "execution_count": 2,
   "metadata": {
    "collapsed": false,
    "deletable": true,
    "editable": true
   },
   "outputs": [
    {
     "name": "stdout",
     "output_type": "stream",
     "text": [
      "CardinalDirection.NORTH\n"
     ]
    }
   ],
   "source": [
    "cdirs = enum.Enum('CardinalDirection', 'NORTH EAST SOUTH WEST')\n",
    "print(list(cdirs)[0])"
   ]
  },
  {
   "cell_type": "markdown",
   "metadata": {
    "deletable": true,
    "editable": true
   },
   "source": [
    "One subtlety is that each of the values must be equivalent to *True*, which is why the default values use an integer sequence starting with 1 rather than 0. In the case of a binary Enum, such as for RIGHT/LEFT, there is no parallel with True/False in the sense of 'not RIGHT == LEFT'.  In practice this makes little or no difference, though in pattern matching across possibilities, one might leave room for a possible invalid value or 'None'. \n",
    "\n",
    "One easy way to add some display flexibility is to override the dunder str display method.\n"
   ]
  },
  {
   "cell_type": "code",
   "execution_count": 3,
   "metadata": {
    "collapsed": false,
    "deletable": true,
    "editable": true
   },
   "outputs": [
    {
     "name": "stdout",
     "output_type": "stream",
     "text": [
      "<Suit.SPADES: 1> name: 'SPADES' symbol: ♠\n"
     ]
    }
   ],
   "source": [
    "@enum.unique\n",
    "class Suit(enum.Enum):\n",
    "    SPADES   = 1\n",
    "    HEARTS   = 2\n",
    "    DIAMONDS = 3\n",
    "    CLUBS    = 4\n",
    "\n",
    "    def __str__(self):\n",
    "        return '♠♥♦♣'[self.value - 1]\n",
    "    \n",
    "print('{0!r} name: {1!r} symbol: {0!s}'.format(Suit.SPADES, Suit.SPADES.name))    \n",
    "    "
   ]
  },
  {
   "cell_type": "markdown",
   "metadata": {
    "deletable": true,
    "editable": true
   },
   "source": [
    "An elaborate example from the Python documentation is for the (eight) Planets where the value is a tuple with measurements for mass and radius.  An __init__ method is required to coordinate the fields and a @property method is defined to calculate the specific gravity.  \n",
    "\n",
    "https://docs.python.org/3/library/enum.html\n",
    "\n",
    "As a take-off on this, there is a StackOverflow answer by \"Zero Piraeus\" that uses #collections.namedtuple# as a mixin with Enum which creates slightly cleaner code with no __init__ method, despite the external declaration of the namedtuple.\n",
    "\n",
    "https://stackoverflow.com/questions/26691784/can-named-arguments-be-used-with-python-enums\n"
   ]
  },
  {
   "cell_type": "code",
   "execution_count": 4,
   "metadata": {
    "collapsed": true,
    "deletable": true,
    "editable": true
   },
   "outputs": [],
   "source": [
    "from collections import namedtuple\n",
    "from enum import Enum\n",
    "\n",
    "Body = namedtuple(\"Body\", [\"mass\", \"radius\"])\n",
    "\n",
    "class Planet(Body, Enum):\n",
    "\n",
    "    MERCURY = Body(mass=3.303e+23, radius=2.4397e6)\n",
    "    VENUS   = Body(mass=4.869e+24, radius=6.0518e6)\n",
    "    EARTH   = Body(mass=5.976e+24, radius=3.3972e6)\n",
    "    # ... etc.\n",
    "\n"
   ]
  },
  {
   "cell_type": "markdown",
   "metadata": {
    "deletable": true,
    "editable": true
   },
   "source": [
    "In both cases, the function of the class as an Enum moves closer to being a Set of fleshed out objects while retaining the limited number of elements.  Viewing these from the relational perspective, it would be seen as a lookup table."
   ]
  },
  {
   "cell_type": "markdown",
   "metadata": {
    "deletable": true,
    "editable": true
   },
   "source": [
    "A different take on expanding the enum is to use the Cartesian product of two Enums to create a new Enum for a 2-dimensional space.  Unlike the Planets example, the following *playing card* example avoids multiple fields in favor of simply structured strings for the values.  Unfortunately for playing cards, there is no good set of Python literals to represent them.  Using the unicode symbols or numbers as the first character for the *names* isn't valid (though it is currently possible to create the enum this way and print out as a list, they can't be individually referenced in code).  But using the symbols for display #values# can is useful here.  Passing a list of (name, value) tuples works in the functional API and the list comprehension here makes it succinct.    "
   ]
  },
  {
   "cell_type": "code",
   "execution_count": 5,
   "metadata": {
    "collapsed": false,
    "deletable": true,
    "editable": true
   },
   "outputs": [
    {
     "name": "stdout",
     "output_type": "stream",
     "text": [
      "Size of deck: 24\n",
      "First 3 cards: A♠ A♥ A♦\n",
      "Royal Flush: ['A♠', 'K♠', 'Q♠', 'J♠', '10♠']\n"
     ]
    }
   ],
   "source": [
    "class Suit(enum.Enum):\n",
    "    SPADES   = '♠'\n",
    "    HEARTS   = '♥'\n",
    "    DIAMONDS = '♦'\n",
    "    CLUBS    = '♣'\n",
    "\n",
    "class Rank(enum.Enum):\n",
    "    A = 'A'\n",
    "    K = 'K'\n",
    "    Q = 'Q'\n",
    "    J = 'J'\n",
    "    T = '10'\n",
    "    _9 = '9'\n",
    "    # ... etc.\n",
    "\n",
    "cards = enum.Enum('Cards', [ (r.name + s.name[0], (r, s)) for r in Rank for s in Suit ])\n",
    "cards.__str__ = lambda self: self.value[0].value + self.value[1].value\n",
    "\n",
    "deck = list(cards)\n",
    "print('Size of deck: {}'.format(len(deck)))\n",
    "print('First 3 cards: {!s} {!s} {!s}'.format(deck[0], deck[1], deck[2]))\n",
    "print('Royal Flush: {!s}'.format( [str(c) for c in cards if c.name[-1] == 'S'][0:5]))\n"
   ]
  },
  {
   "cell_type": "markdown",
   "metadata": {
    "deletable": true,
    "editable": true
   },
   "source": [
    "But if Poker is to be the context, then the enumeration of cards will need to be ordered and we will still need to have some display options.  So rather than use the *Functional API*, the following rewrite of the three *Enum*s uses tuples as the Enum values with an integer to provide the ordering values, a short display string, and for the cards the rank and suit.  For the cards, a custom Metaclass is used to define the Enum members which then enable the class definition format where the ordering interface is added.  Ethan Furman, the author of the enum module, said in a StackOverflow answer, \"Enums are not ordinary classes, and EnumMeta is not a typical metaclass\" and he cautions against using metaclasses, but its use here seems the direct route.  See:  https://stackoverflow.com/questions/43096541/a-more-pythonic-way-to-define-an-enum-with-dynamic-members"
   ]
  },
  {
   "cell_type": "code",
   "execution_count": 6,
   "metadata": {
    "collapsed": false,
    "deletable": true,
    "editable": true
   },
   "outputs": [
    {
     "name": "stdout",
     "output_type": "stream",
     "text": [
      "[ACE_OF_SPADES, ACE_OF_HEARTS, ACE_OF_DIAMONDS, ACE_OF_CLUBS, KING_OF_SPADES]\n",
      "Q♦ has suit Suit.DIAMONDS and rank Rank.QUEEN\n",
      "A♠ beats K♣ : True\n"
     ]
    }
   ],
   "source": [
    "class Suit(enum.Enum):\n",
    "    SPADES   = (4, '♠')\n",
    "    HEARTS   = (3, '♥')\n",
    "    DIAMONDS = (2, '♦')\n",
    "    CLUBS    = (1, '♣')\n",
    "    \n",
    "\n",
    "class Rank(enum.Enum):\n",
    "    ACE   = (14, 'A')\n",
    "    KING  = (13, 'K')\n",
    "    QUEEN = (12, 'Q')\n",
    "    JACK  = (11, 'J')\n",
    "    TEN   = (10, '10')\n",
    "    NINE  = (9,  '9')\n",
    "    # etc.\n",
    "    \n",
    "    def __lt__(self, other):\n",
    "        if self.__class__ is other.__class__:\n",
    "            return self.value[0] < other.value[0]\n",
    "        return NotImplemented\n",
    "    # etc., if needed    \n",
    "    \n",
    "class PlayingCardMeta(enum.EnumMeta):\n",
    "    def __new__(metacls, cls, bases, classdict):\n",
    "        for r in Rank:\n",
    "            for s in Suit:                \n",
    "                classdict[r.name + '_OF_' + s.name] = \\\n",
    "                    ((r.value[0] - 2) * 4 + s.value[0], \n",
    "                     r, s, r.value[1] + s.value[1])\n",
    "            \n",
    "        return super(PlayingCardMeta, metacls).__new__(metacls, cls, bases, classdict)\n",
    "\n",
    "    \n",
    "class PlayingCard(enum.Enum, metaclass=PlayingCardMeta):\n",
    "\n",
    "    @property\n",
    "    def rank(self):\n",
    "        return self.value[1]\n",
    "    \n",
    "    @property    \n",
    "    def suit(self):\n",
    "        return self.value[2]\n",
    "            \n",
    "    def __repr__(self): \n",
    "        return self.name\n",
    "\n",
    "    def __str__(self): \n",
    "        return self.value[3]\n",
    "\n",
    "    def __ge__(self, other):\n",
    "        if self.__class__ is other.__class__:\n",
    "            return self.value[0] >= other.value[0]\n",
    "        return NotImplemented\n",
    "    def __gt__(self, other):\n",
    "        if self.__class__ is other.__class__:\n",
    "            return self.value[0] > other.value[0]\n",
    "        return NotImplemented\n",
    "    def __le__(self, other):\n",
    "        if self.__class__ is other.__class__:\n",
    "            return self.value[0] <= other.value[0]\n",
    "        return NotImplemented\n",
    "    def __lt__(self, other):\n",
    "        if self.__class__ is other.__class__:\n",
    "            return self.value[0] < other.value[0]\n",
    "        return NotImplemented\n",
    "\n",
    "        \n",
    "print(list(PlayingCard)[0:5])\n",
    "print('{} has suit {} and rank {}'.format(PlayingCard.QUEEN_OF_DIAMONDS, \n",
    "            PlayingCard.QUEEN_OF_DIAMONDS.suit,\n",
    "            PlayingCard.QUEEN_OF_DIAMONDS.rank))       \n",
    "print('{} beats {} : {}'.format(PlayingCard.ACE_OF_SPADES, \n",
    "            PlayingCard.KING_OF_CLUBS,\n",
    "            PlayingCard.ACE_OF_SPADES >= PlayingCard.KING_OF_CLUBS))        \n"
   ]
  },
  {
   "cell_type": "markdown",
   "metadata": {},
   "source": [
    "Continuing the theme, the ranking of poker hands by category is an opportunity for another ordered Enum.  The method to classify a hand of five cards is provisionally added just to show the use of the above Enums in action.  Other data elements are needed to compare poker hands."
   ]
  },
  {
   "cell_type": "code",
   "execution_count": 7,
   "metadata": {
    "collapsed": false
   },
   "outputs": [
    {
     "name": "stdout",
     "output_type": "stream",
     "text": [
      "hand rank: [ACE_OF_SPADES, ACE_OF_HEARTS, ACE_OF_CLUBS, JACK_OF_SPADES, NINE_OF_DIAMONDS] : PokerHandRank.THREE_OF_A_KIND\n",
      "hand rank: [ACE_OF_SPADES, ACE_OF_CLUBS, JACK_OF_SPADES, NINE_OF_HEARTS, NINE_OF_DIAMONDS] : PokerHandRank.TWO_PAIR\n",
      "hand rank: [ACE_OF_SPADES, KING_OF_SPADES, QUEEN_OF_SPADES, JACK_OF_SPADES, NINE_OF_SPADES] : PokerHandRank.FLUSH\n",
      "hand rank: [ACE_OF_SPADES, KING_OF_SPADES, QUEEN_OF_SPADES, JACK_OF_SPADES, TEN_OF_SPADES] : PokerHandRank.STRAIGHT_FLUSH\n"
     ]
    }
   ],
   "source": [
    "from collections import Counter\n",
    "\n",
    "class PokerHandRank(enum.Enum):\n",
    "\n",
    "    STRAIGHT_FLUSH   = 9\n",
    "    FOUR_OF_A_KIND   = 8\n",
    "    FULL_HOUSE       = 7\n",
    "    FLUSH            = 6\n",
    "    STRAIGHT         = 5\n",
    "    THREE_OF_A_KIND  = 4\n",
    "    TWO_PAIR         = 3\n",
    "    PAIR             = 2\n",
    "    HIGH_CARD        = 1\n",
    "    \n",
    "    def __ge__(self, other):\n",
    "        if self.__class__ is other.__class__:\n",
    "            return self.value >= other.value\n",
    "        return NotImplemented\n",
    "    def __gt__(self, other):\n",
    "        if self.__class__ is other.__class__:\n",
    "            return self.value > other.value\n",
    "        return NotImplemented\n",
    "    def __le__(self, other):\n",
    "        if self.__class__ is other.__class__:\n",
    "            return self.value <= other.value\n",
    "        return NotImplemented\n",
    "    def __lt__(self, other):\n",
    "        if self.__class__ is other.__class__:\n",
    "            return self.value < other.value\n",
    "        return NotImplemented\n",
    "       \n",
    "    @classmethod    \n",
    "    def classify_hand(self, cards):\n",
    "        ''' this implementation returns incomplete info\n",
    "            for comparing hands '''\n",
    "        #test for type List of PlayingCard\n",
    "        \n",
    "        #test for Rank multiples\n",
    "        ctr = Counter()        \n",
    "        ctr.update([c.rank for c in cards])\n",
    "        ctr_mc = ctr.most_common(5)\n",
    "        \n",
    "        if ctr_mc[0][1] == 4:\n",
    "            return self.FOUR_OF_A_KIND\n",
    "        elif ctr_mc[0][1] == 3:\n",
    "            if ctr_mc[1][1] == 2:\n",
    "                return self.FULL_HOUSE\n",
    "            else:\n",
    "                return self.THREE_OF_A_KIND\n",
    "        elif ctr_mc[0][1] == 2:\n",
    "            if ctr_mc[1][1] == 2:\n",
    "                return self.TWO_PAIR\n",
    "            else:\n",
    "                return self.PAIR        \n",
    "        \n",
    "        #otherwise counts are all `1`\n",
    "        #test for flush, i.e. Suit multiples       \n",
    "        is_flush = all([c.suit == cards[0].suit for c in cards[1:]])        \n",
    "        is_straight = True  #temp\n",
    "        \n",
    "        #test for straight\n",
    "        #sort by card.rank\n",
    "        sorted_ranks = sorted(ctr.elements())\n",
    "        for i in range(4):\n",
    "            if sorted_ranks[i].value[0] != sorted_ranks[i + 1].value[0] - 1:\n",
    "                is_straight = False\n",
    "        \n",
    "        if is_straight:\n",
    "            if is_flush:\n",
    "                return self.STRAIGHT_FLUSH\n",
    "            else:\n",
    "                return self.STRAIGHT\n",
    "        \n",
    "        if is_flush:\n",
    "            return self.FLUSH\n",
    "            \n",
    "        #default is lowest rank\n",
    "        return self.HIGH_CARD\n",
    "\n",
    "\n",
    "hand = [PlayingCard.ACE_OF_SPADES, PlayingCard.JACK_OF_SPADES, \n",
    "        PlayingCard.ACE_OF_CLUBS,\n",
    "        PlayingCard.NINE_OF_DIAMONDS, PlayingCard.ACE_OF_HEARTS]\n",
    "print('hand rank: {} : {}'.format(sorted(hand, reverse=True), \n",
    "                                  PokerHandRank.classify_hand(hand)))\n",
    "\n",
    "hand = [PlayingCard.ACE_OF_SPADES, PlayingCard.JACK_OF_SPADES, \n",
    "        PlayingCard.ACE_OF_CLUBS,\n",
    "        PlayingCard.NINE_OF_DIAMONDS, PlayingCard.NINE_OF_HEARTS]       \n",
    "print('hand rank: {} : {}'.format(sorted(hand, reverse=True), \n",
    "                                  PokerHandRank.classify_hand(hand)))\n",
    "\n",
    "hand = [PlayingCard.ACE_OF_SPADES, PlayingCard.JACK_OF_SPADES, \n",
    "        PlayingCard.QUEEN_OF_SPADES,\n",
    "        PlayingCard.NINE_OF_SPADES, PlayingCard.KING_OF_SPADES]       \n",
    "print('hand rank: {} : {}'.format(sorted(hand, reverse=True), \n",
    "                                  PokerHandRank.classify_hand(hand)))\n",
    "\n",
    "hand = [PlayingCard.ACE_OF_SPADES, PlayingCard.JACK_OF_SPADES, \n",
    "        PlayingCard.QUEEN_OF_SPADES,\n",
    "        PlayingCard.TEN_OF_SPADES, PlayingCard.KING_OF_SPADES]       \n",
    "print('hand rank: {} : {}'.format(sorted(hand, reverse=True), \n",
    "                                  PokerHandRank.classify_hand(hand)))    "
   ]
  }
 ],
 "metadata": {
  "kernelspec": {
   "display_name": "Python 3",
   "language": "python",
   "name": "python3"
  },
  "language_info": {
   "codemirror_mode": {
    "name": "ipython",
    "version": 3
   },
   "file_extension": ".py",
   "mimetype": "text/x-python",
   "name": "python",
   "nbconvert_exporter": "python",
   "pygments_lexer": "ipython3",
   "version": "3.6.0"
  }
 },
 "nbformat": 4,
 "nbformat_minor": 2
}
