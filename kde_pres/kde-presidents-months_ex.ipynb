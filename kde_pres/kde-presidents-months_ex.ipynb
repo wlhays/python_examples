{
 "cells": [
  {
   "cell_type": "markdown",
   "metadata": {
    "deletable": true,
    "editable": true
   },
   "source": [
    "### Kernel Density Estimates Example :  Presidents' time in office\n",
    "\n",
    "In Chapter 2-3 of Philip Janert's \"Data Analysis with Open Source Tools\" (O'Reilly, 2009), an example of a kernel density estimates as an improvement over histograms for univariate data.  The code is written using the Numpy library without using any KDE-specific calls.  The particular dataset is of U.S. presidents' months in office, amended here to include Obama's two terms.  General mathematical equations are given for Gaussian, Epanechnikov and Boxcar KDEs and an implementation for the Gaussian form is given using the Numpy library, but without code for plotting despite the visualization inserted as a figure in the text.\n",
    "\n",
    "The presentation below merely adds a Numpy implementation for the Epanechnikov formula and completes the visualization code using matplotlib.  This first cell presents the initial Janert code.  The *z* (position) parameter will be used for each *x* interval value in the linspace division of the range of month values.  In other words, each of the 1000 segments in the time dimension is evaluated against all of the same 1000 segments, resulting in 1000000 calculations. Note that Numpy broadcasting and a ufunc is used in the handling of the array *xv*. "
   ]
  },
  {
   "cell_type": "code",
   "execution_count": 1,
   "metadata": {
    "collapsed": true,
    "deletable": true,
    "editable": true
   },
   "outputs": [],
   "source": [
    "import numpy as np\n",
    "import matplotlib.pyplot as plt\n",
    "\n",
    "# z: position, w: bandwidth, xv: vector of points\n",
    "def gaussian_kde( z, w, xv ):\n",
    "    return np.sum( np.exp(-0.5*((z-xv)/w)**2)/np.sqrt(2*np.pi*w**2) )\n"
   ]
  },
  {
   "cell_type": "markdown",
   "metadata": {
    "deletable": true,
    "editable": true
   },
   "source": [
    "The following function is added, derived from Janert's version of the Epanechnikov mathematical equation.  The bandwidth is adjusted in the calling code to be double that used for the Gaussian function.  Note that the condition *if* reduces the number of resulting point to 2883 out of the possible 1000000."
   ]
  },
  {
   "cell_type": "code",
   "execution_count": 2,
   "metadata": {
    "collapsed": true,
    "deletable": true,
    "editable": true
   },
   "outputs": [],
   "source": [
    "def epanechnikov_kde(z, w, xv):\n",
    "    return np.sum([0.75*(1 - ((z-xv[i])/w)**2)/w for i in range(len(xv)) \\\n",
    "           if (np.abs(z - xv[i])/ w) <= 1])       \n"
   ]
  },
  {
   "cell_type": "markdown",
   "metadata": {
    "deletable": true,
    "editable": true
   },
   "source": [
    "Resuming Janert's code loading the data from a file.  The bandwidth is somewhat arbitrarily set.  Following that, Janert's code is adjusted to accomodate two kde's.  The x-dimension is equally divided into 1000 increments.  Empty arrays are created to receive the kde calculations.   "
   ]
  },
  {
   "cell_type": "code",
   "execution_count": 3,
   "metadata": {
    "collapsed": true,
    "deletable": true,
    "editable": true
   },
   "outputs": [],
   "source": [
    "# first col is sequential index, second is presidents' names, \n",
    "# just use third col =  counts of days\n",
    "d = np.loadtxt( \"janert_ch02_presidents\", usecols=(2,) )\n",
    "\n",
    "#bandwidth\n",
    "w = 2.5\n",
    "\n",
    "#increments\n",
    "x_inc = 1000\n",
    "\n",
    "xs = np.linspace( min(d)-w, max(d)+w, x_inc )\n",
    "gauss_ys = np.zeros(shape=(x_inc,1))\n",
    "epani_ys = np.zeros(shape=(x_inc,1))\n"
   ]
  },
  {
   "cell_type": "markdown",
   "metadata": {
    "deletable": true,
    "editable": true
   },
   "source": [
    "It does not seem possible to plot the kde functions as can easily be done as in *plot(x, sin(x))* since each point of the linspace is evaluated over twice and a broadcasting error would be generated. So, the more long-winded solution here is to calculate the y values in a loop."
   ]
  },
  {
   "cell_type": "code",
   "execution_count": 4,
   "metadata": {
    "collapsed": true,
    "deletable": true,
    "editable": true
   },
   "outputs": [],
   "source": [
    "i = 0\n",
    "\n",
    "for x in xs:\n",
    "    gauss_ys[i] = gaussian_kde( x, w, d )\n",
    "    epani_ys[i] = epanechnikov_kde( x, w*2, d )\n",
    "    i += 1\n"
   ]
  },
  {
   "cell_type": "markdown",
   "metadata": {
    "deletable": true,
    "editable": true
   },
   "source": [
    "And finally the plot:"
   ]
  },
  {
   "cell_type": "code",
   "execution_count": 5,
   "metadata": {
    "collapsed": false,
    "deletable": true,
    "editable": true
   },
   "outputs": [
    {
     "data": {
      "text/plain": [
       "<matplotlib.legend.Legend at 0x7fd7e01a7da0>"
      ]
     },
     "execution_count": 5,
     "metadata": {},
     "output_type": "execute_result"
    },
    {
     "data": {
      "image/png": "[encoded data removed]",
      "text/plain": [
       "<matplotlib.figure.Figure at 0x7fd8096e5470>"
      ]
     },
     "metadata": {},
     "output_type": "display_data"
    }
   ],
   "source": [
    "%matplotlib inline\n",
    "plt.title('U.S. Presidents Time in Office')\n",
    "plt.xlabel('months in office')\n",
    "plt.plot(xs, gauss_ys, 'r--', lw=1.0, label=\"Gaussian KDE\")\n",
    "plt.plot(xs, epani_ys, 'g', lw=1.0, label=\"Epanechnikov KDE\")\n",
    "plt.legend(loc='upper right', frameon=False)"
   ]
  }
 ],
 "metadata": {
  "kernelspec": {
   "display_name": "Python 3",
   "language": "python",
   "name": "python3"
  },
  "language_info": {
   "codemirror_mode": {
    "name": "ipython",
    "version": 3
   },
   "file_extension": ".py",
   "mimetype": "text/x-python",
   "name": "python",
   "nbconvert_exporter": "python",
   "pygments_lexer": "ipython3",
   "version": "3.6.0"
  }
 },
 "nbformat": 4,
 "nbformat_minor": 2
}
