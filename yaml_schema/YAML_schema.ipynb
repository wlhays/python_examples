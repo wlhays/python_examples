{
 "cells": [
  {
   "cell_type": "markdown",
   "metadata": {
    "deletable": true,
    "editable": true
   },
   "source": [
    "## YAML Schema Validation with jsonschema\n",
    "\n",
    "YAML is popular for uses case such as configuration files because it is easy to read and write, less susceptible to missing commas and curly braces, but Python tools for specifically validating YAML documents against a schema are not great.  There is an alternative:  Given that the Python *yaml* library loads documents directly into Python *dict*s, it is easy to use *jsonschema*, a well-respected and active implementation of *JSON Schema* for Python, to validate both a YAML schema and a YAML document without the commas and curly braces if the given document could be equivalently expressed as JSON.  In other words, the simpler and practical documents like config files.\n",
    "\n",
    "For instance, the documentation for the standard Python library *logging* uses YAML for the example of the new *dict-config* method for configuring logging externally. Here is a slightly enhanced version to show multiple formatters, handlers and loggers.\n",
    "\n"
   ]
  },
  {
   "cell_type": "raw",
   "metadata": {
    "deletable": true,
    "editable": true
   },
   "source": [
    "```\n",
    "---\n",
    "# based on the YAML configuration file in the Python 3 logging documentation\n",
    "# https://docs.python.org/3/howto/logging.html#logging-advanced-tutorial\n",
    "\n",
    "version: 1\n",
    "\n",
    "formatters:\n",
    "  simple:\n",
    "    format: '%(asctime)s - %(name)s - %(levelname)s - %(message)s'\n",
    "  brief:\n",
    "    format: '%(asctime)s - %(message)s'\n",
    "  \n",
    "handlers:\n",
    "  console:\n",
    "    class: logging.StreamHandler\n",
    "    level: DEBUG\n",
    "    formatter: simple\n",
    "    stream: ext://sys.stdout\n",
    "  file_app:\n",
    "    class: logging.FileHandler\n",
    "    level: INFO\n",
    "    formatter: brief\n",
    "    filename: app.log \n",
    "    encoding: utf8\n",
    "    \n",
    "loggers:\n",
    "  simpleExample:\n",
    "    level: DEBUG\n",
    "    handlers: [console]\n",
    "    propagate: no\n",
    "  simplerExample:\n",
    "    level: DEBUG\n",
    "    handlers: [file_app]\n",
    "    propagate: no\n",
    "    \n",
    "root:\n",
    "  level: DEBUG\n",
    "  handlers: [console]\n",
    "```"
   ]
  },
  {
   "cell_type": "markdown",
   "metadata": {
    "deletable": true,
    "editable": true
   },
   "source": [
    "If the above was a file with path *logging.cfg*, the following is all the yaml coding that is required to read in the config:\n",
    "\n",
    "\n",
    ">        import yaml\n",
    ">        \n",
    ">        with open('logging.cfg', 'rt') as f:\n",
    ">            log_cfg = yaml.safe_load(f.read())\n",
    ">        logging.config.dictConfig(log_cfg)\n",
    "\n",
    "\n",
    "But no schema either in JSON or YAML is provided to perform validation.  So the following discussion walks through the creation of a *JSON Schema* schema to match the above logging config file.\n",
    "\n",
    "The process is principally to identify properties of objects which are often nested.  Given the logging config example, it starts off easily with some header information and the first property for the main object called *version*:\n",
    "\n",
    "```\n",
    "$schema: http://json-schema.org/draft-04/schema#\n",
    "title: PythonLoggingConfig\n",
    "type: object\n",
    "properties: \n",
    "    version: \n",
    "        type: integer\n",
    "```\n",
    "\n",
    "After principle part of the config file and the schema consists of four sections, each containing an associative array of logging objects, which easily converts to a Python dict:  Formatters, Handlers, Loggers and Main (the parent Logger).  Each of these objects is in key-value format, but the trick is that the *name* is made up by the writer of the config file and not available to the schema.  The format of the file could have used a *name* property but did not.  JSON Schema solves this with an alternate list of properties called *patternProperties* that uses regular expressions, in this case a very generic regex for a word without spaces.  In the case of the formatters, the value associated with this name is a single property *format*.  Notice that consistent with YAML, the indentation of the objects and properties indicates the hierarchy being described.\n",
    "\n",
    "```\n",
    "    formatters:\n",
    "        type: object\n",
    "        patternProperties:\n",
    "            '^\\w+$':\n",
    "                type: object\n",
    "                properties:\n",
    "                    format: \n",
    "                        type: string \n",
    "                required: [format]                       \n",
    "        additionalProperties: no      # forces match of pattern \n",
    "```\n",
    "\n",
    "The *required* field is used to list the required properties for the given object in the hierarchy.  The *additionaProperties* is important to ensure that the regex is being matched, since all properties in the schema are optional by default.  When writing the schema, it is important to constantly test your schema by attempting to generate schema Exceptions to make sure that what is intended to match is being matched and not set aside as option elements.  A correctly matching schema doesn't generate result statements.  \n",
    "\n",
    "The other issue with the formatters, etc., is that the config file lists multiple formatter objects and there is no designation of multiples.  For arrays with square brackets in YAML and JSON, there is a schema designation for *array* and the *items* within, but not for associative arrays.  And despite a lack of explanation and examples in the documentation and relevant tutorials, the multiplicity is *implicit* and the above section of schema works for multiple formatters.\n",
    "\n",
    "The rest of the schema follows the same pattern and the complete version is as follows:"
   ]
  },
  {
   "cell_type": "markdown",
   "metadata": {
    "deletable": true,
    "editable": true
   },
   "source": [
    "```\n",
    "$schema: http://json-schema.org/draft-04/schema#\n",
    "title: PythonLoggingConfig\n",
    "type: object\n",
    "properties: \n",
    "    version: \n",
    "        type: integer\n",
    "        \n",
    "    formatters:\n",
    "        type: object\n",
    "        patternProperties:\n",
    "            '^\\w+$':\n",
    "                type: object\n",
    "                properties:\n",
    "                    format: \n",
    "                        type: string \n",
    "                required: [format]                       \n",
    "        additionalProperties: no      # forces match of pattern \n",
    "         \n",
    "    handlers:\n",
    "        type: object\n",
    "        patternProperties:\n",
    "            '^\\w+$':\n",
    "                type: object\n",
    "                properties:\n",
    "                    class: \n",
    "                        type: string \n",
    "                    level:\n",
    "                        enum: [ NOTSET, DEBUG, INFO, WARNING, ERROR, CRITICAL ]\n",
    "                    formatter:\n",
    "                        type: string   # one of keys in formatters    \n",
    "                    stream:\n",
    "                        type: string\n",
    "                    filename:            \n",
    "                        type: string  \n",
    "                    encoding:          # enum : [ utf8, ?]\n",
    "                        type: string                \n",
    "                required: [class, level, formatter]                       \n",
    "        additionalProperties: no   \n",
    "    \n",
    "    loggers:\n",
    "        type: object\n",
    "        patternProperties:\n",
    "            '^\\w+$':\n",
    "                type: object\n",
    "                properties:\n",
    "                    level:\n",
    "                        enum: [ NOTSET, DEBUG, INFO, WARNING, ERROR, CRITICAL ]\n",
    "                    handlers:\n",
    "                        type: array\n",
    "                        items: \n",
    "                             type: string \n",
    "                    propagate: \n",
    "                        type: boolean\n",
    "                required: [ level, handlers ]              \n",
    "        additionalProperties: no      # forces match of pattern  \n",
    "     \n",
    "    root:\n",
    "        type: object\n",
    "        properties:\n",
    "            level: \n",
    "                enum: [ NOTSET, DEBUG, INFO, WARNING, ERROR, CRITICAL ]\n",
    "            handlers: \n",
    "                type: array\n",
    "                items: \n",
    "                    type: string \n",
    "                    # possible to say `one of handlers` by the key?                 \n",
    "               \n",
    "required: [version, formatters, handlers, loggers, root]\n",
    "\n",
    "\n",
    "```"
   ]
  },
  {
   "cell_type": "markdown",
   "metadata": {
    "collapsed": true,
    "deletable": true,
    "editable": true
   },
   "source": [
    "The Python code using the *jsonschema* library to perform both the validation of the schema and the validation of the YAML or JSON config file using the schema is short and straight-forward.  Both the yaml and jsonschema modules need to be loaded into the environment, but both are easily found via pip, etc.  Currently, the most recent version of *JSON Schema* supported by *jsonschema* is *Draft 4* but *Draft 6* is in the works. "
   ]
  },
  {
   "cell_type": "code",
   "execution_count": 1,
   "metadata": {
    "collapsed": false
   },
   "outputs": [
    {
     "ename": "ModuleNotFoundError",
     "evalue": "No module named 'yaml'",
     "output_type": "error",
     "traceback": [
      "\u001b[0;31m---------------------------------------------------------------------------\u001b[0m",
      "\u001b[0;31mModuleNotFoundError\u001b[0m                       Traceback (most recent call last)",
      "\u001b[0;32m<ipython-input-1-dff2342debf8>\u001b[0m in \u001b[0;36m<module>\u001b[0;34m()\u001b[0m\n\u001b[1;32m      1\u001b[0m \u001b[0;32mimport\u001b[0m \u001b[0mjson\u001b[0m\u001b[0;34m\u001b[0m\u001b[0m\n\u001b[0;32m----> 2\u001b[0;31m \u001b[0;32mimport\u001b[0m \u001b[0myaml\u001b[0m\u001b[0;34m\u001b[0m\u001b[0m\n\u001b[0m\u001b[1;32m      3\u001b[0m \u001b[0;32mimport\u001b[0m \u001b[0mjsonschema\u001b[0m\u001b[0;34m,\u001b[0m \u001b[0mjsonschema\u001b[0m\u001b[0;34m.\u001b[0m\u001b[0mexceptions\u001b[0m\u001b[0;34m\u001b[0m\u001b[0m\n\u001b[1;32m      4\u001b[0m \u001b[0;32mimport\u001b[0m \u001b[0msys\u001b[0m\u001b[0;34m\u001b[0m\u001b[0m\n\u001b[1;32m      5\u001b[0m \u001b[0;34m\u001b[0m\u001b[0m\n",
      "\u001b[0;31mModuleNotFoundError\u001b[0m: No module named 'yaml'"
     ]
    }
   ],
   "source": [
    "import json\n",
    "import yaml\n",
    "import jsonschema, jsonschema.exceptions\n",
    "import sys\n",
    "\n",
    "def is_valid_config(schema, config):\n",
    "    \n",
    "    try:    \n",
    "        jsonschema.Draft4Validator.check_schema(schema)    \n",
    "    except jsonschema.exceptions.SchemaError as e:\n",
    "        print(e) \n",
    "        return False\n",
    "    print('schema is valid')\n",
    "\n",
    "    try:\n",
    "        jsonschema.validate(config, schema)\n",
    "    except jsonschema.exceptions.ValidationError as e:\n",
    "        print(e) \n",
    "        return False\n",
    "\n",
    "    return True\n"
   ]
  }
 ],
 "metadata": {
  "kernelspec": {
   "display_name": "Python 3",
   "language": "python",
   "name": "python3"
  },
  "language_info": {
   "codemirror_mode": {
    "name": "ipython",
    "version": 3
   },
   "file_extension": ".py",
   "mimetype": "text/x-python",
   "name": "python",
   "nbconvert_exporter": "python",
   "pygments_lexer": "ipython3",
   "version": "3.6.0"
  }
 },
 "nbformat": 4,
 "nbformat_minor": 2
}
